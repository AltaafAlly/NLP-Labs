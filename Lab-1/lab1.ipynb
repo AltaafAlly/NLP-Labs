{
  "cells": [
    {
      "cell_type": "code",
      "execution_count": 31,
      "metadata": {},
      "outputs": [],
      "source": [
        "import torch\n",
        "import torch.nn as nn\n",
        "import torch.optim as optim\n",
        "import random\n",
        "import numpy as np\n",
        "import nltk\n",
        "from nltk.corpus import stopwords\n",
        "from nltk.tokenize import word_tokenize\n",
        "from nltk.stem import WordNetLemmatizer\n",
        "from torch.utils.data import DataLoader, Dataset\n",
        "from sklearn.model_selection import train_test_split\n",
        "from sklearn.linear_model import LogisticRegression\n",
        "from sklearn.metrics import accuracy_score, confusion_matrix\n",
        "import seaborn as sns\n",
        "import matplotlib.pyplot as plt"
      ]
    },
    {
      "cell_type": "code",
      "execution_count": 32,
      "metadata": {},
      "outputs": [],
      "source": [
        "# Ensure reproducibility\n",
        "torch.manual_seed(0)\n",
        "random.seed(0)"
      ]
    },
    {
      "cell_type": "code",
      "execution_count": 33,
      "metadata": {},
      "outputs": [
        {
          "name": "stdout",
          "output_type": "stream",
          "text": [
            "Using device: cpu\n"
          ]
        }
      ],
      "source": [
        "# Check if GPU is available and set device accordingly\n",
        "device = torch.device(\"cuda\" if torch.cuda.is_available() else \"cpu\")\n",
        "print(f\"Using device: {device}\")"
      ]
    },
    {
      "cell_type": "code",
      "execution_count": 34,
      "metadata": {},
      "outputs": [
        {
          "name": "stderr",
          "output_type": "stream",
          "text": [
            "[nltk_data] Downloading package punkt to\n",
            "[nltk_data]     C:\\Users\\momos\\AppData\\Roaming\\nltk_data...\n",
            "[nltk_data]   Package punkt is already up-to-date!\n",
            "[nltk_data] Downloading package stopwords to\n",
            "[nltk_data]     C:\\Users\\momos\\AppData\\Roaming\\nltk_data...\n",
            "[nltk_data]   Package stopwords is already up-to-date!\n",
            "[nltk_data] Downloading package wordnet to\n",
            "[nltk_data]     C:\\Users\\momos\\AppData\\Roaming\\nltk_data...\n",
            "[nltk_data]   Package wordnet is already up-to-date!\n"
          ]
        },
        {
          "data": {
            "text/plain": [
              "True"
            ]
          },
          "execution_count": 34,
          "metadata": {},
          "output_type": "execute_result"
        }
      ],
      "source": [
        "# Download required NLTK resources\n",
        "nltk.download('punkt')\n",
        "nltk.download('stopwords')\n",
        "nltk.download('wordnet')"
      ]
    },
    {
      "cell_type": "code",
      "execution_count": 35,
      "metadata": {},
      "outputs": [],
      "source": [
        "# Initialize NLTK tools\n",
        "lemmatizer = WordNetLemmatizer()\n",
        "stop_words = set(stopwords.words('english'))"
      ]
    },
    {
      "cell_type": "code",
      "execution_count": 36,
      "metadata": {},
      "outputs": [],
      "source": [
        "def preprocess_text(text, remove_stopwords):\n",
        "    \"\"\"Tokenize, optionally remove stop words, lemmatize, and clean text.\"\"\"\n",
        "    words = word_tokenize(text.lower())\n",
        "    words = [word for word in words if word.isalpha()]\n",
        "    if remove_stopwords:\n",
        "        words = [word for word in words if word not in stop_words]\n",
        "    words = [lemmatizer.lemmatize(word) for word in words]\n",
        "    return words"
      ]
    },
    {
      "cell_type": "code",
      "execution_count": 37,
      "metadata": {},
      "outputs": [],
      "source": [
        "def load_and_preprocess_text(file_path, remove_stopwords, sampling_ratio=0.0125):\n",
        "    \"\"\"Load text from a file, preprocess, and sample it.\"\"\"\n",
        "    with open('HP1.txt', 'r', encoding='utf-8') as f:\n",
        "        text = f.read()\n",
        "    words = preprocess_text(text, remove_stopwords=remove_stopwords)\n",
        "    return words[:int(len(words) * sampling_ratio)]"
      ]
    },
    {
      "cell_type": "code",
      "execution_count": 38,
      "metadata": {},
      "outputs": [],
      "source": [
        "def create_vocabulary(words):\n",
        "    \"\"\"Create vocabulary and mapping dictionaries.\"\"\"\n",
        "    vocab = sorted(set(words))\n",
        "    word_to_index = {word: i for i, word in enumerate(vocab)}\n",
        "    index_to_word = {i: word for i, word in enumerate(vocab)}\n",
        "    return vocab, word_to_index, index_to_word"
      ]
    },
    {
      "cell_type": "code",
      "execution_count": 39,
      "metadata": {},
      "outputs": [],
      "source": [
        "def one_hot_vector(word_index, vocab_size):\n",
        "    \"\"\"Generate a one-hot encoded vector.\"\"\"\n",
        "    vector = torch.zeros(vocab_size, device=device)\n",
        "    vector[word_index] = 1\n",
        "    return vector"
      ]
    },
    {
      "cell_type": "code",
      "execution_count": 40,
      "metadata": {},
      "outputs": [],
      "source": [
        "def generate_training_data(words, word_to_index, window_size=2):\n",
        "    \"\"\"Generate input-output pairs for training.\"\"\"\n",
        "    vocab_size = len(word_to_index)\n",
        "    training_data = []\n",
        "    for i, word in enumerate(words):\n",
        "        if word not in word_to_index:\n",
        "            continue\n",
        "        input_word = word_to_index[word]\n",
        "        input_vector = one_hot_vector(input_word, vocab_size)\n",
        "        for j in range(-window_size, window_size + 1):\n",
        "            if j != 0 and 0 <= i + j < len(words):\n",
        "                if words[i + j] not in word_to_index:\n",
        "                    continue\n",
        "                output_word = word_to_index[words[i + j]]\n",
        "                output_vector = one_hot_vector(output_word, vocab_size)\n",
        "                training_data.append((input_vector, output_vector))\n",
        "    return training_data"
      ]
    },
    {
      "cell_type": "code",
      "execution_count": 41,
      "metadata": {},
      "outputs": [],
      "source": [
        "class Word2VecDataset(Dataset):\n",
        "    \"\"\"Custom dataset for Word2Vec training data.\"\"\"\n",
        "\n",
        "    def __init__(self, training_data):\n",
        "        self.training_data = training_data\n",
        "\n",
        "    def __len__(self):\n",
        "        return len(self.training_data)\n",
        "\n",
        "    def __getitem__(self, idx):\n",
        "        return self.training_data[idx]"
      ]
    },
    {
      "cell_type": "code",
      "execution_count": 42,
      "metadata": {},
      "outputs": [],
      "source": [
        "class Word2Vec(nn.Module):\n",
        "    \"\"\"Simple Word2Vec model with one hidden layer.\"\"\"\n",
        "\n",
        "    def __init__(self, vocab_size, embedding_dim):\n",
        "        super(Word2Vec, self).__init__()\n",
        "        self.embeddings = nn.Linear(vocab_size, embedding_dim)\n",
        "        self.linear = nn.Linear(embedding_dim, vocab_size)\n",
        "\n",
        "    def forward(self, input_vector):\n",
        "        embed = self.embeddings(input_vector)\n",
        "        output = self.linear(embed)\n",
        "        return output\n",
        "\n",
        "    def get_embedding(self, input_vector):\n",
        "        with torch.no_grad():\n",
        "            embed = self.embeddings(input_vector)\n",
        "        return embed"
      ]
    },
    {
      "cell_type": "code",
      "execution_count": 43,
      "metadata": {},
      "outputs": [],
      "source": [
        "def train_word2vec_model(train_loader, model, epochs=100, lr=0.01):\n",
        "    \"\"\"Train the Word2Vec model.\"\"\"\n",
        "    optimizer = optim.SGD(model.parameters(), lr=lr)\n",
        "    loss_function = nn.MSELoss()\n",
        "\n",
        "    for epoch in range(epochs):\n",
        "        total_loss = 0\n",
        "        for input_vector, output_vector in train_loader:\n",
        "            optimizer.zero_grad()\n",
        "            output = model(input_vector)\n",
        "            loss = loss_function(output, output_vector)\n",
        "            loss.backward()\n",
        "            optimizer.step()\n",
        "            total_loss += loss.item()\n",
        "\n",
        "        if (epoch + 1) % 10 == 0:\n",
        "            print(\n",
        "                f'Epoch {epoch+1}/{epochs}, Loss: {total_loss/len(train_loader)}')"
      ]
    },
    {
      "cell_type": "code",
      "execution_count": 44,
      "metadata": {},
      "outputs": [],
      "source": [
        "def save_word2vec_model(model, file_path):\n",
        "    \"\"\"Save the trained Word2Vec model.\"\"\"\n",
        "    torch.save(model.state_dict(), file_path)\n",
        "    print(f\"Model saved to {file_path}\")"
      ]
    },
    {
      "cell_type": "code",
      "execution_count": 45,
      "metadata": {},
      "outputs": [],
      "source": [
        "def load_word2vec_model(file_path, vocab_size, embedding_dim):\n",
        "    \"\"\"Load a saved Word2Vec model.\"\"\"\n",
        "    model = Word2Vec(vocab_size, embedding_dim)\n",
        "    model.load_state_dict(torch.load(file_path))\n",
        "    model.to(device)\n",
        "    model.eval()  # Set model to evaluation mode\n",
        "    print(f\"Model loaded from {file_path}\")\n",
        "    return model"
      ]
    },
    {
      "cell_type": "code",
      "execution_count": 46,
      "metadata": {},
      "outputs": [],
      "source": [
        "def get_word_embedding(word, model, word_to_index):\n",
        "    \"\"\"Retrieve the embedding for a given word.\"\"\"\n",
        "    input_vector = one_hot_vector(\n",
        "        word_to_index[word], len(word_to_index)).unsqueeze(0)\n",
        "    embedding = model.get_embedding(input_vector).squeeze(0)\n",
        "    return embedding"
      ]
    },
    {
      "cell_type": "code",
      "execution_count": 47,
      "metadata": {},
      "outputs": [],
      "source": [
        "def infer_embedding_from_one_hot(one_hot_vector, model):\n",
        "    \"\"\"\n",
        "    Given a 1-hot vector, return the corresponding word embedding using the trained model.\n",
        "\n",
        "    Args:\n",
        "        one_hot_vector (torch.Tensor): A 1-hot encoded vector of size [vocab_size].\n",
        "        model (Word2Vec): The trained Word2Vec model.\n",
        "\n",
        "    Returns:\n",
        "        torch.Tensor: The corresponding embedding vector.\n",
        "    \"\"\"\n",
        "    one_hot_vector = one_hot_vector.to(\n",
        "        device)  # Ensure the vector is on the correct device\n",
        "    embedding = model.get_embedding(one_hot_vector.unsqueeze(0)).squeeze(0)\n",
        "    return embedding"
      ]
    },
    {
      "cell_type": "code",
      "execution_count": 48,
      "metadata": {},
      "outputs": [],
      "source": [
        "def sentence_to_vec(sentence, model, word_to_index):\n",
        "    \"\"\"Convert a sentence to a vector by averaging word embeddings.\"\"\"\n",
        "    words = word_tokenize(sentence.lower())\n",
        "    word_vectors = [get_word_embedding(word, model, word_to_index).cpu().numpy()\n",
        "                    for word in words if word in word_to_index]\n",
        "\n",
        "    if word_vectors:\n",
        "        return np.mean(word_vectors, axis=0)\n",
        "    else:\n",
        "        return np.zeros(model.embeddings.out_features)"
      ]
    },
    {
      "cell_type": "code",
      "execution_count": 49,
      "metadata": {},
      "outputs": [],
      "source": [
        "def create_synthetic_dataset():\n",
        "    \"\"\"Create a larger synthetic dataset for text classification.\"\"\"\n",
        "    return [\n",
        "        # Magic examples\n",
        "        (\"harry potter is a wizard\", \"magic\"),\n",
        "        (\"harry casts a powerful spell\", \"magic\"),\n",
        "        (\"hogwarts is a school of witchcraft and wizardry\", \"magic\"),\n",
        "        (\"hermione granger is an intelligent witch\", \"magic\"),\n",
        "        (\"ron weasley is harry's best friend\", \"magic\"),\n",
        "        (\"dumbledore is a powerful wizard\", \"magic\"),\n",
        "        (\"professor snape teaches potions at hogwarts\", \"magic\"),\n",
        "        (\"the sorting hat decides the houses\", \"magic\"),\n",
        "        (\"quidditch is a popular magical sport\", \"magic\"),\n",
        "        (\"the invisibility cloak is a rare magical artifact\", \"magic\"),\n",
        "        (\"harry speaks with snakes due to his parseltongue ability\", \"magic\"),\n",
        "        (\"the marauder's map reveals everyone's location at hogwarts\", \"magic\"),\n",
        "        (\"harry practices magic at hogwarts\", \"magic\"),\n",
        "        (\"sirius black escapes from azkaban using magic\", \"magic\"),\n",
        "        (\"the elder wand is the most powerful wand in existence\", \"magic\"),\n",
        "        (\"hermione uses a time turner to attend multiple classes\", \"magic\"),\n",
        "        (\"the patronus charm wards off dementors\", \"magic\"),\n",
        "        (\"harry defeats voldemort using the power of love\", \"magic\"),\n",
        "        (\"the triwizard tournament is a dangerous magical competition\", \"magic\"),\n",
        "        (\"hagrid is the keeper of keys and grounds at hogwarts\", \"magic\"),\n",
        "        (\"the philosopher's stone grants immortality\", \"magic\"),\n",
        "        (\"fawkes, dumbledore's phoenix, has healing tears\", \"magic\"),\n",
        "        (\"the chamber of secrets is hidden beneath hogwarts\", \"magic\"),\n",
        "        (\"the resurrection stone can bring back the dead temporarily\", \"magic\"),\n",
        "        (\"professor mcgonagall can transform into a cat\", \"magic\"),\n",
        "        (\"the room of requirement appears when needed\", \"magic\"),\n",
        "        (\"the basilisk is a giant serpent that petrifies students\", \"magic\"),\n",
        "        (\"harry's scar hurts when voldemort is near\", \"magic\"),\n",
        "        (\"voldemort splits his soul into horcruxes\", \"magic\"),\n",
        "        (\"polyjuice potion allows the drinker to assume another's form\", \"magic\"),\n",
        "        \n",
        "        # Muggle examples\n",
        "        (\"dursley family is non magical\", \"muggle\"),\n",
        "        (\"dudley dursley is a bully\", \"muggle\"),\n",
        "        (\"the dursleys live at number four privet drive\", \"muggle\"),\n",
        "        (\"uncle vernon works at a drill company\", \"muggle\"),\n",
        "        (\"aunt petunia is obsessed with normality\", \"muggle\"),\n",
        "        (\"dudley attends a private school called smeltings\", \"muggle\"),\n",
        "        (\"the dursleys despise anything unusual\", \"muggle\"),\n",
        "        (\"dudley is spoiled by his parents\", \"muggle\"),\n",
        "        (\"marge dursley is vernon's sister\", \"muggle\"),\n",
        "        (\"the dursleys are terrified of magic\", \"muggle\"),\n",
        "        (\"the dursleys lock harry in the cupboard under the stairs\", \"muggle\"),\n",
        "        (\"the dursleys go on a family vacation without harry\", \"muggle\"),\n",
        "        (\"harry was raised by the dursleys\", \"muggle\"),\n",
        "        (\"petunia was jealous of her sister's magical abilities\", \"muggle\"),\n",
        "        (\"the dursleys refuse to acknowledge harry's magical talents\", \"muggle\"),\n",
        "        (\"dudley and his gang bully other kids\", \"muggle\"),\n",
        "        (\"vernon dursley is the director of a firm called grunnings\", \"muggle\"),\n",
        "        (\"the dursleys move to a small island to avoid harry's letters\", \"muggle\"),\n",
        "        (\"the dursleys enjoy watching television\", \"muggle\"),\n",
        "        (\"harry is treated like a servant by the dursleys\", \"muggle\"),\n",
        "        (\"dudley often throws tantrums to get what he wants\", \"muggle\"),\n",
        "        (\"the dursleys have a strict routine and dislike surprises\", \"muggle\"),\n",
        "        (\"the dursleys are proud of being ordinary\", \"muggle\"),\n",
        "        (\"the dursleys have a pet dog named rippy\", \"muggle\"),\n",
        "        (\"the dursleys are horrified when harry receives his hogwarts letter\", \"muggle\"),\n",
        "        (\"dudley complains about his diet during the summer\", \"muggle\"),\n",
        "        (\"the dursleys try to keep harry's magical abilities a secret\", \"muggle\"),\n",
        "        (\"vernon dursley is often angry and red-faced\", \"muggle\"),\n",
        "        (\"the dursleys do not celebrate harry's birthday\", \"muggle\"),\n",
        "        (\"petunia dursley is overly concerned with appearances\", \"muggle\"),\n",
        "    ]\n"
      ]
    },
    {
      "cell_type": "code",
      "execution_count": 50,
      "metadata": {},
      "outputs": [],
      "source": [
        "def prepare_features_and_labels(data, model, word_to_index, label_to_index):\n",
        "    \"\"\"Prepare feature vectors and labels for classification.\"\"\"\n",
        "    X = np.array([sentence_to_vec(sentence, model, word_to_index)\n",
        "                 for sentence, _ in data])\n",
        "    y = np.array([label_to_index[label] for _, label in data])\n",
        "    return X, y"
      ]
    },
    {
      "cell_type": "code",
      "execution_count": 51,
      "metadata": {},
      "outputs": [],
      "source": [
        "def train_and_evaluate_classifier(X_train, y_train, X_test, y_test, index_to_label):\n",
        "    \"\"\"Train a classifier and evaluate its performance.\"\"\"\n",
        "    clf = LogisticRegression()\n",
        "    clf.fit(X_train, y_train)\n",
        "    y_pred = clf.predict(X_test)\n",
        "    accuracy = accuracy_score(y_test, y_pred)\n",
        "    print(f\"Test Accuracy: {accuracy:.4f}\")\n",
        "    cm = confusion_matrix(y_test, y_pred)\n",
        "    sns.heatmap(cm, annot=True, fmt=\"d\", cmap=\"Blues\",\n",
        "                xticklabels=index_to_label.values(),\n",
        "                yticklabels=index_to_label.values())\n",
        "    plt.xlabel('Predicted')\n",
        "    plt.ylabel('Actual')\n",
        "    plt.show()"
      ]
    },
    {
      "cell_type": "code",
      "execution_count": 52,
      "metadata": {},
      "outputs": [
        {
          "name": "stdout",
          "output_type": "stream",
          "text": [
            "Number of words in text without stop: 495\n",
            "Sampled words in text without stop: ['dursley', 'number', 'four', 'privet', 'drive', 'proud', 'say', 'perfectly', 'normal', 'thank']\n",
            "Number of words in text with stop: 989\n",
            "Sampled words in text with stop: ['and', 'dursley', 'of', 'number', 'four', 'privet', 'drive', 'were', 'proud', 'to']\n"
          ]
        }
      ],
      "source": [
        "# Load and preprocess text data\n",
        "sampled_words_without_stop = load_and_preprocess_text('HP1.txt', remove_stopwords=True, sampling_ratio=0.0125)\n",
        "sampled_words_with_stop = load_and_preprocess_text('HP1.txt', remove_stopwords=False, sampling_ratio=0.0125)\n",
        "print(f\"Number of words in text without stop: {len(sampled_words_without_stop)}\")\n",
        "print(f\"Sampled words in text without stop: {sampled_words_without_stop[:10]}\")\n",
        "\n",
        "print(f\"Number of words in text with stop: {len(sampled_words_with_stop)}\")\n",
        "print(f\"Sampled words in text with stop: {sampled_words_with_stop[:10]}\")"
      ]
    },
    {
      "cell_type": "code",
      "execution_count": 53,
      "metadata": {},
      "outputs": [
        {
          "name": "stdout",
          "output_type": "stream",
          "text": [
            "Vocabulary size without stop: 324\n",
            "Sampled vocabulary without stop: ['across', 'almost', 'also', 'although', 'always', 'amount', 'angrily', 'another', 'anyone', 'anything']\n",
            "Vocabulary size with stop: 390\n",
            "Sampled vocabulary with stop: ['a', 'about', 'across', 'after', 'again', 'all', 'also', 'although', 'always', 'amount']\n"
          ]
        }
      ],
      "source": [
        "# Create vocabulary and mappings\n",
        "vocab_without_stop, word_to_index_without_stop, index_to_word_without_stop = create_vocabulary(sampled_words_without_stop)\n",
        "print(f\"Vocabulary size without stop: {len(vocab_without_stop)}\")\n",
        "print(f\"Sampled vocabulary without stop: {vocab_without_stop[:10]}\")\n",
        "\n",
        "vocab_with_stop, word_to_index_with_stop, index_to_word_with_stop = create_vocabulary(sampled_words_with_stop)\n",
        "print(f\"Vocabulary size with stop: {len(vocab_with_stop)}\")\n",
        "print(f\"Sampled vocabulary with stop: {vocab_with_stop[:10]}\")\n",
        "\n"
      ]
    },
    {
      "cell_type": "code",
      "execution_count": 54,
      "metadata": {},
      "outputs": [
        {
          "name": "stdout",
          "output_type": "stream",
          "text": [
            "Number of training samples without stop: 1974\n",
            "Number of training samples with stop: 3950\n"
          ]
        }
      ],
      "source": [
        "# Generate training data\n",
        "training_data_without_stop = generate_training_data(sampled_words_without_stop, word_to_index_without_stop)\n",
        "print(f\"Number of training samples without stop: {len(training_data_without_stop)}\")\n",
        "\n",
        "training_data_with_stop = generate_training_data(sampled_words_with_stop, word_to_index_with_stop)\n",
        "print(f\"Number of training samples with stop: {len(training_data_with_stop)}\")"
      ]
    },
    {
      "cell_type": "code",
      "execution_count": 55,
      "metadata": {},
      "outputs": [],
      "source": [
        "# Create DataLoader for batch processing\n",
        "train_loader_without_stop = DataLoader(Word2VecDataset(training_data_without_stop), batch_size=64, shuffle=True)\n",
        "\n",
        "train_loader_with_stop = DataLoader(Word2VecDataset(training_data_with_stop), batch_size=64, shuffle=True)"
      ]
    },
    {
      "cell_type": "code",
      "execution_count": 56,
      "metadata": {},
      "outputs": [
        {
          "name": "stdout",
          "output_type": "stream",
          "text": [
            "Epoch 10/100, Loss: 0.00697172500733887\n",
            "Epoch 20/100, Loss: 0.006762528251255712\n",
            "Epoch 30/100, Loss: 0.006569579559107942\n",
            "Epoch 40/100, Loss: 0.006389864074486879\n",
            "Epoch 50/100, Loss: 0.006223133990481015\n",
            "Epoch 60/100, Loss: 0.006067483761017361\n",
            "Epoch 70/100, Loss: 0.005922789760534802\n",
            "Epoch 80/100, Loss: 0.00578789776491542\n",
            "Epoch 90/100, Loss: 0.005661305956422321\n",
            "Epoch 100/100, Loss: 0.0055423639264077906\n",
            "Epoch 10/100, Loss: 0.006452154751206117\n",
            "Epoch 20/100, Loss: 0.006136478751056617\n",
            "Epoch 30/100, Loss: 0.005855195667414415\n",
            "Epoch 40/100, Loss: 0.005602318440533934\n",
            "Epoch 50/100, Loss: 0.005374775538521428\n",
            "Epoch 60/100, Loss: 0.005169181153178215\n",
            "Epoch 70/100, Loss: 0.004982189590772314\n",
            "Epoch 80/100, Loss: 0.004812435615026663\n",
            "Epoch 90/100, Loss: 0.004657313242674836\n",
            "Epoch 100/100, Loss: 0.004515580344764936\n"
          ]
        }
      ],
      "source": [
        "# Initialize and train Word2Vec model\n",
        "embedding_dim = 100\n",
        "\n",
        "model_without_stop = Word2Vec(len(vocab_without_stop), embedding_dim).to(device)\n",
        "train_word2vec_model(train_loader_without_stop, model_without_stop, epochs=100, lr=0.01)\n",
        "\n",
        "model_with_stop = Word2Vec(len(vocab_with_stop), embedding_dim).to(device)\n",
        "train_word2vec_model(train_loader_with_stop, model_with_stop, epochs=100, lr=0.01)"
      ]
    },
    {
      "cell_type": "code",
      "execution_count": 57,
      "metadata": {},
      "outputs": [
        {
          "name": "stdout",
          "output_type": "stream",
          "text": [
            "Model saved to word2vec_model_without_stop.pth\n",
            "Model saved to word2vec_model_with_stop.pth\n"
          ]
        }
      ],
      "source": [
        "# Save the trained model\n",
        "save_word2vec_model(model_without_stop, \"word2vec_model_without_stop.pth\")\n",
        "save_word2vec_model(model_with_stop, \"word2vec_model_with_stop.pth\")"
      ]
    },
    {
      "cell_type": "code",
      "execution_count": 58,
      "metadata": {},
      "outputs": [
        {
          "name": "stdout",
          "output_type": "stream",
          "text": [
            "Embedding for 'harry': [ 0.03844901  0.04543697 -0.10878    -0.02555934  0.07402951 -0.04952545\n",
            "  0.0004124  -0.06997204 -0.03512633 -0.01290623 -0.01885929  0.03998341\n",
            " -0.06191524  0.06610629 -0.01866924  0.04110705 -0.05259521  0.01614056\n",
            " -0.00946887  0.07316788 -0.0122979   0.02658844 -0.02229108  0.05793237\n",
            " -0.01493399 -0.00527312 -0.01393625 -0.00695427 -0.05991523 -0.00702011\n",
            " -0.0394148   0.08519608 -0.00624298 -0.01891657  0.02350362  0.02489071\n",
            "  0.01965818  0.08014542  0.05434592  0.00728782 -0.01340918 -0.00017994\n",
            "  0.05786791  0.08546393 -0.03977128  0.00401897  0.00770041  0.05377323\n",
            " -0.03566595 -0.00536143  0.00857709 -0.04957271  0.03999159 -0.00153912\n",
            "  0.00709397 -0.03313319  0.01069032  0.00771775  0.01048747  0.04729463\n",
            "  0.04601784 -0.02208117  0.00640398  0.05680246 -0.06639124  0.0895108\n",
            " -0.07530437 -0.0123159   0.04036394 -0.05268839  0.0235489   0.05334887\n",
            " -0.06816702  0.05426363  0.01791198 -0.06061008 -0.02862433 -0.02712588\n",
            "  0.00361222  0.01008274 -0.02227055  0.03762595  0.08135043 -0.04031651\n",
            "  0.07518561 -0.01409881 -0.0549323  -0.0257006  -0.02037026  0.04147118\n",
            " -0.03545316  0.05536823 -0.06457305  0.00656871 -0.06264568  0.08265984\n",
            "  0.03694983  0.07145938 -0.0379881  -0.04688077]\n"
          ]
        }
      ],
      "source": [
        "# Example: Inference from a 1-hot vector (without_stop)\n",
        "word = \"harry\"\n",
        "if word in word_to_index_without_stop:\n",
        "    one_hot_vec = one_hot_vector(word_to_index_without_stop[word], len(vocab_without_stop))\n",
        "    embedding = infer_embedding_from_one_hot(one_hot_vec, model_without_stop)\n",
        "    print(f\"Embedding for '{word}': {embedding.cpu().numpy()}\")\n",
        "else:\n",
        "    print(f\"Word '{word}' not found in vocabulary.\")"
      ]
    },
    {
      "cell_type": "code",
      "execution_count": 59,
      "metadata": {},
      "outputs": [
        {
          "name": "stdout",
          "output_type": "stream",
          "text": [
            "Embedding for 'harry': [-0.0530783   0.01762675 -0.01125533  0.02734794 -0.02093221 -0.03450192\n",
            "  0.05482077 -0.01661431  0.01278769 -0.03893923  0.03971538  0.00943485\n",
            " -0.03873069 -0.03451888  0.0431224  -0.01271079  0.00442901 -0.04123817\n",
            " -0.0775761  -0.0635734   0.0398122   0.01825161 -0.02459295  0.07275625\n",
            " -0.00332657 -0.03791375 -0.04944352 -0.04288843 -0.00991016  0.04124469\n",
            "  0.00960298  0.06847268 -0.01473995  0.06783885 -0.00434509 -0.03188606\n",
            "  0.03922448 -0.03071676 -0.00927286  0.05137883  0.03388418  0.02183873\n",
            " -0.05477878  0.03978537  0.02440173  0.03932498  0.01373984 -0.0157092\n",
            " -0.07738337 -0.06915791  0.00368755 -0.04359275 -0.01752132 -0.02312266\n",
            "  0.03441559 -0.0133285  -0.06339757  0.05018494  0.00889457  0.01020909\n",
            " -0.0190822  -0.0403847   0.04386631  0.00298234 -0.08565012  0.0217104\n",
            "  0.07500107 -0.01166157 -0.01374042  0.02431092 -0.02638808  0.0441052\n",
            " -0.01096517 -0.01136899 -0.06566121  0.00250013  0.02631466  0.02906191\n",
            "  0.02241355  0.03821819  0.06451879  0.01589194 -0.08108427 -0.01264576\n",
            " -0.05210988 -0.01424682 -0.01811011  0.02365403  0.02020643  0.05637207\n",
            "  0.03425862  0.04583191  0.02874476 -0.08792168 -0.00229159  0.00805081\n",
            " -0.00411828  0.08567533 -0.0734556  -0.0951055 ]\n"
          ]
        }
      ],
      "source": [
        "# Example: Inference from a 1-hot vector (with_stop)\n",
        "\n",
        "word = \"harry\"\n",
        "if word in word_to_index_with_stop:\n",
        "    one_hot_vec = one_hot_vector(word_to_index_with_stop[word], len(vocab_with_stop))\n",
        "    embedding = infer_embedding_from_one_hot(one_hot_vec, model_with_stop)\n",
        "    print(f\"Embedding for '{word}': {embedding.cpu().numpy()}\")\n",
        "else:\n",
        "    print(f\"Word '{word}' not found in vocabulary.\")"
      ]
    },
    {
      "cell_type": "code",
      "execution_count": 60,
      "metadata": {},
      "outputs": [
        {
          "name": "stdout",
          "output_type": "stream",
          "text": [
            "Model loaded from word2vec_model_without_stop.pth\n",
            "Model loaded from word2vec_model_with_stop.pth\n"
          ]
        },
        {
          "name": "stderr",
          "output_type": "stream",
          "text": [
            "/var/folders/33/690z1r7d4zd6hsk_3_12g2_m0000gn/T/ipykernel_34599/1035760200.py:4: FutureWarning: You are using `torch.load` with `weights_only=False` (the current default value), which uses the default pickle module implicitly. It is possible to construct malicious pickle data which will execute arbitrary code during unpickling (See https://github.com/pytorch/pytorch/blob/main/SECURITY.md#untrusted-models for more details). In a future release, the default value for `weights_only` will be flipped to `True`. This limits the functions that could be executed during unpickling. Arbitrary objects will no longer be allowed to be loaded via this mode unless they are explicitly allowlisted by the user via `torch.serialization.add_safe_globals`. We recommend you start setting `weights_only=True` for any use case where you don't have full control of the loaded file. Please open an issue on GitHub for any issues related to this experimental feature.\n",
            "  model.load_state_dict(torch.load(file_path))\n"
          ]
        }
      ],
      "source": [
        "# Load the saved model (optional, just to demonstrate loading)\n",
        "loaded_model_without_stop = load_word2vec_model(\"word2vec_model_without_stop.pth\", len(vocab_without_stop), embedding_dim)\n",
        "\n",
        "loaded_model_with_stop = load_word2vec_model(\"word2vec_model_with_stop.pth\", len(vocab_with_stop), embedding_dim)"
      ]
    },
    {
      "cell_type": "code",
      "execution_count": 61,
      "metadata": {},
      "outputs": [],
      "source": [
        "# Create and process synthetic dataset for classification (without stop)\n",
        "data = create_synthetic_dataset()\n",
        "label_to_index = {\"magic\": 0, \"muggle\": 1}\n",
        "index_to_label = {v: k for k, v in label_to_index.items()}\n",
        "X, y = prepare_features_and_labels(data, loaded_model_without_stop, word_to_index_without_stop, label_to_index)"
      ]
    },
    {
      "cell_type": "code",
      "execution_count": 62,
      "metadata": {},
      "outputs": [
        {
          "name": "stdout",
          "output_type": "stream",
          "text": [
            "Test Accuracy: 0.8889\n"
          ]
        },
        {
          "data": {
            "image/png": "[encoded data removed]",
            "text/plain": [
              "<Figure size 640x480 with 2 Axes>"
            ]
          },
          "metadata": {},
          "output_type": "display_data"
        }
      ],
      "source": [
        "# Split data and evaluate classifier (without stop)\n",
        "X_train, X_test, y_train, y_test = train_test_split(X, y, test_size=0.3, random_state=42)\n",
        "train_and_evaluate_classifier(X_train, y_train, X_test, y_test, index_to_label)"
      ]
    },
    {
      "cell_type": "code",
      "execution_count": 63,
      "metadata": {},
      "outputs": [],
      "source": [
        "# Create and process synthetic dataset for classification (with stop)\n",
        "data = create_synthetic_dataset()\n",
        "label_to_index = {\"magic\": 0, \"muggle\": 1}\n",
        "index_to_label = {v: k for k, v in label_to_index.items()}\n",
        "X, y = prepare_features_and_labels(data, loaded_model_with_stop, word_to_index_with_stop, label_to_index)"
      ]
    },
    {
      "cell_type": "code",
      "execution_count": 64,
      "metadata": {},
      "outputs": [
        {
          "name": "stdout",
          "output_type": "stream",
          "text": [
            "Test Accuracy: 0.4444\n"
          ]
        },
        {
          "data": {
            "image/png": "[encoded data removed]",
            "text/plain": [
              "<Figure size 640x480 with 2 Axes>"
            ]
          },
          "metadata": {},
          "output_type": "display_data"
        }
      ],
      "source": [
        "# Split data and evaluate classifier (with stop)\n",
        "X_train, X_test, y_train, y_test = train_test_split(X, y, test_size=0.3, random_state=42)\n",
        "train_and_evaluate_classifier(X_train, y_train, X_test, y_test, index_to_label)"
      ]
    }
  ],
  "metadata": {
    "kernelspec": {
      "display_name": "general",
      "language": "python",
      "name": "python3"
    },
    "language_info": {
      "codemirror_mode": {
        "name": "ipython",
        "version": 3
      },
      "file_extension": ".py",
      "mimetype": "text/x-python",
      "name": "python",
      "nbconvert_exporter": "python",
      "pygments_lexer": "ipython3",
      "version": "3.11.9"
    }
  },
  "nbformat": 4,
  "nbformat_minor": 2
}
