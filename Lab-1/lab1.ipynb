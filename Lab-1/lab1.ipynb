{
 "cells": [
  {
   "cell_type": "code",
   "execution_count": 23,
   "metadata": {},
   "outputs": [],
   "source": [
    "import torch\n",
    "import torch.nn as nn\n",
    "import torch.optim as optim\n",
    "import random\n",
    "import numpy as np\n",
    "import nltk\n",
    "from nltk.corpus import stopwords\n",
    "from nltk.tokenize import word_tokenize\n",
    "from nltk.stem import WordNetLemmatizer\n",
    "from torch.utils.data import DataLoader, Dataset\n",
    "from sklearn.model_selection import train_test_split\n",
    "from sklearn.linear_model import LogisticRegression\n",
    "from sklearn.metrics import accuracy_score, confusion_matrix\n",
    "import seaborn as sns\n",
    "import matplotlib.pyplot as plt"
   ]
  },
  {
   "cell_type": "code",
   "execution_count": 24,
   "metadata": {},
   "outputs": [],
   "source": [
    "# Ensure reproducibility\n",
    "torch.manual_seed(0)\n",
    "random.seed(0)"
   ]
  },
  {
   "cell_type": "code",
   "execution_count": 25,
   "metadata": {},
   "outputs": [
    {
     "name": "stdout",
     "output_type": "stream",
     "text": [
      "Using device: cpu\n"
     ]
    }
   ],
   "source": [
    "# Check if GPU is available and set device accordingly\n",
    "device = torch.device(\"cuda\" if torch.cuda.is_available() else \"cpu\")\n",
    "print(f\"Using device: {device}\")"
   ]
  },
  {
   "cell_type": "code",
   "execution_count": 26,
   "metadata": {},
   "outputs": [
    {
     "name": "stderr",
     "output_type": "stream",
     "text": [
      "[nltk_data] Downloading package punkt to\n",
      "[nltk_data]     C:\\Users\\momos\\AppData\\Roaming\\nltk_data...\n",
      "[nltk_data]   Package punkt is already up-to-date!\n",
      "[nltk_data] Downloading package stopwords to\n",
      "[nltk_data]     C:\\Users\\momos\\AppData\\Roaming\\nltk_data...\n",
      "[nltk_data]   Package stopwords is already up-to-date!\n",
      "[nltk_data] Downloading package wordnet to\n",
      "[nltk_data]     C:\\Users\\momos\\AppData\\Roaming\\nltk_data...\n",
      "[nltk_data]   Package wordnet is already up-to-date!\n"
     ]
    },
    {
     "data": {
      "text/plain": [
       "True"
      ]
     },
     "execution_count": 26,
     "metadata": {},
     "output_type": "execute_result"
    }
   ],
   "source": [
    "# Download required NLTK resources\n",
    "nltk.download('punkt')\n",
    "nltk.download('stopwords')\n",
    "nltk.download('wordnet')"
   ]
  },
  {
   "cell_type": "code",
   "execution_count": 27,
   "metadata": {},
   "outputs": [],
   "source": [
    "# Initialize NLTK tools\n",
    "lemmatizer = WordNetLemmatizer()\n",
    "stop_words = set(stopwords.words('english'))"
   ]
  },
  {
   "cell_type": "code",
   "execution_count": 28,
   "metadata": {},
   "outputs": [],
   "source": [
    "def preprocess_text(text, remove_stopwords):\n",
    "    \"\"\"Tokenize, optionally remove stop words, lemmatize, and clean text.\"\"\"\n",
    "    words = word_tokenize(text.lower())\n",
    "    words = [word for word in words if word.isalpha()]\n",
    "    if remove_stopwords:\n",
    "        words = [word for word in words if word not in stop_words]\n",
    "    words = [lemmatizer.lemmatize(word) for word in words]\n",
    "    return words"
   ]
  },
  {
   "cell_type": "code",
   "execution_count": 29,
   "metadata": {},
   "outputs": [],
   "source": [
    "def load_and_preprocess_text(file_path, remove_stopwords, sampling_ratio=0.5):\n",
    "    \"\"\"Load text from a file, preprocess, and sample it.\"\"\"\n",
    "    with open('HP1.txt', 'r', encoding='utf-8') as f:\n",
    "        text = f.read()\n",
    "    words = preprocess_text(text, remove_stopwords=remove_stopwords)\n",
    "    return words[:int(len(words) * sampling_ratio)]"
   ]
  },
  {
   "cell_type": "code",
   "execution_count": 30,
   "metadata": {},
   "outputs": [],
   "source": [
    "def create_vocabulary(words):\n",
    "    \"\"\"Create vocabulary and mapping dictionaries.\"\"\"\n",
    "    vocab = sorted(set(words))\n",
    "    word_to_index = {word: i for i, word in enumerate(vocab)}\n",
    "    index_to_word = {i: word for i, word in enumerate(vocab)}\n",
    "    return vocab, word_to_index, index_to_word"
   ]
  },
  {
   "cell_type": "code",
   "execution_count": 31,
   "metadata": {},
   "outputs": [],
   "source": [
    "def one_hot_vector(word_index, vocab_size):\n",
    "    \"\"\"Generate a one-hot encoded vector.\"\"\"\n",
    "    vector = torch.zeros(vocab_size, device=device)\n",
    "    vector[word_index] = 1\n",
    "    return vector"
   ]
  },
  {
   "cell_type": "code",
   "execution_count": 32,
   "metadata": {},
   "outputs": [],
   "source": [
    "def generate_training_data(words, word_to_index, window_size=2):\n",
    "    \"\"\"Generate input-output pairs for training.\"\"\"\n",
    "    vocab_size = len(word_to_index)\n",
    "    training_data = []\n",
    "    for i, word in enumerate(words):\n",
    "        if word not in word_to_index:\n",
    "            continue\n",
    "        input_word = word_to_index[word]\n",
    "        input_vector = one_hot_vector(input_word, vocab_size)\n",
    "        for j in range(-window_size, window_size + 1):\n",
    "            if j != 0 and 0 <= i + j < len(words):\n",
    "                if words[i + j] not in word_to_index:\n",
    "                    continue\n",
    "                output_word = word_to_index[words[i + j]]\n",
    "                output_vector = one_hot_vector(output_word, vocab_size)\n",
    "                training_data.append((input_vector, output_vector))\n",
    "    return training_data"
   ]
  },
  {
   "cell_type": "code",
   "execution_count": 33,
   "metadata": {},
   "outputs": [],
   "source": [
    "class Word2VecDataset(Dataset):\n",
    "    \"\"\"Custom dataset for Word2Vec training data.\"\"\"\n",
    "\n",
    "    def __init__(self, training_data):\n",
    "        self.training_data = training_data\n",
    "\n",
    "    def __len__(self):\n",
    "        return len(self.training_data)\n",
    "\n",
    "    def __getitem__(self, idx):\n",
    "        return self.training_data[idx]"
   ]
  },
  {
   "cell_type": "code",
   "execution_count": 34,
   "metadata": {},
   "outputs": [],
   "source": [
    "class Word2Vec(nn.Module):\n",
    "    \"\"\"Simple Word2Vec model with one hidden layer.\"\"\"\n",
    "\n",
    "    def __init__(self, vocab_size, embedding_dim):\n",
    "        super(Word2Vec, self).__init__()\n",
    "        self.embeddings = nn.Linear(vocab_size, embedding_dim)\n",
    "        self.linear = nn.Linear(embedding_dim, vocab_size)\n",
    "\n",
    "    def forward(self, input_vector):\n",
    "        embed = self.embeddings(input_vector)\n",
    "        output = self.linear(embed)\n",
    "        return output\n",
    "\n",
    "    def get_embedding(self, input_vector):\n",
    "        with torch.no_grad():\n",
    "            embed = self.embeddings(input_vector)\n",
    "        return embed"
   ]
  },
  {
   "cell_type": "code",
   "execution_count": 35,
   "metadata": {},
   "outputs": [],
   "source": [
    "def train_word2vec_model(train_loader, model, epochs=100, lr=0.01):\n",
    "    \"\"\"Train the Word2Vec model.\"\"\"\n",
    "    optimizer = optim.SGD(model.parameters(), lr=lr)\n",
    "    loss_function = nn.MSELoss()\n",
    "\n",
    "    for epoch in range(epochs):\n",
    "        total_loss = 0\n",
    "        for input_vector, output_vector in train_loader:\n",
    "            optimizer.zero_grad()\n",
    "            output = model(input_vector)\n",
    "            loss = loss_function(output, output_vector)\n",
    "            loss.backward()\n",
    "            optimizer.step()\n",
    "            total_loss += loss.item()\n",
    "\n",
    "        if (epoch + 1) % 10 == 0:\n",
    "            print(\n",
    "                f'Epoch {epoch+1}/{epochs}, Loss: {total_loss/len(train_loader)}')"
   ]
  },
  {
   "cell_type": "code",
   "execution_count": 36,
   "metadata": {},
   "outputs": [],
   "source": [
    "def save_word2vec_model(model, file_path):\n",
    "    \"\"\"Save the trained Word2Vec model.\"\"\"\n",
    "    torch.save(model.state_dict(), file_path)\n",
    "    print(f\"Model saved to {file_path}\")"
   ]
  },
  {
   "cell_type": "code",
   "execution_count": 37,
   "metadata": {},
   "outputs": [],
   "source": [
    "def load_word2vec_model(file_path, vocab_size, embedding_dim):\n",
    "    \"\"\"Load a saved Word2Vec model.\"\"\"\n",
    "    model = Word2Vec(vocab_size, embedding_dim)\n",
    "    model.load_state_dict(torch.load(file_path))\n",
    "    model.to(device)\n",
    "    model.eval()  # Set model to evaluation mode\n",
    "    print(f\"Model loaded from {file_path}\")\n",
    "    return model"
   ]
  },
  {
   "cell_type": "code",
   "execution_count": 38,
   "metadata": {},
   "outputs": [],
   "source": [
    "def get_word_embedding(word, model, word_to_index):\n",
    "    \"\"\"Retrieve the embedding for a given word.\"\"\"\n",
    "    input_vector = one_hot_vector(\n",
    "        word_to_index[word], len(word_to_index)).unsqueeze(0)\n",
    "    embedding = model.get_embedding(input_vector).squeeze(0)\n",
    "    return embedding"
   ]
  },
  {
   "cell_type": "code",
   "execution_count": 39,
   "metadata": {},
   "outputs": [],
   "source": [
    "def infer_embedding_from_one_hot(one_hot_vector, model):\n",
    "    \"\"\"\n",
    "    Given a 1-hot vector, return the corresponding word embedding using the trained model.\n",
    "\n",
    "    Args:\n",
    "        one_hot_vector (torch.Tensor): A 1-hot encoded vector of size [vocab_size].\n",
    "        model (Word2Vec): The trained Word2Vec model.\n",
    "\n",
    "    Returns:\n",
    "        torch.Tensor: The corresponding embedding vector.\n",
    "    \"\"\"\n",
    "    one_hot_vector = one_hot_vector.to(\n",
    "        device)  # Ensure the vector is on the correct device\n",
    "    embedding = model.get_embedding(one_hot_vector.unsqueeze(0)).squeeze(0)\n",
    "    return embedding"
   ]
  },
  {
   "cell_type": "code",
   "execution_count": 40,
   "metadata": {},
   "outputs": [],
   "source": [
    "def sentence_to_vec(sentence, model, word_to_index):\n",
    "    \"\"\"Convert a sentence to a vector by averaging word embeddings.\"\"\"\n",
    "    words = word_tokenize(sentence.lower())\n",
    "    word_vectors = [get_word_embedding(word, model, word_to_index).cpu().numpy()\n",
    "                    for word in words if word in word_to_index]\n",
    "\n",
    "    if word_vectors:\n",
    "        return np.mean(word_vectors, axis=0)\n",
    "    else:\n",
    "        return np.zeros(model.embeddings.out_features)"
   ]
  },
  {
   "cell_type": "code",
   "execution_count": 41,
   "metadata": {},
   "outputs": [],
   "source": [
    "def create_synthetic_dataset():\n",
    "    \"\"\"Create a synthetic dataset for text classification into 'wizard' and 'magic' categories.\"\"\"\n",
    "    return [\n",
    "        # Wizard examples\n",
    "        (\"harry potter is a young wizard\", \"wizard\"),\n",
    "        (\"dumbledore is a powerful and wise wizard\", \"wizard\"),\n",
    "        (\"professor mcgonagall is a witch who can transform into a cat\", \"wizard\"),\n",
    "        (\"voldemort is a dark wizard feared by many\", \"wizard\"),\n",
    "        (\"hermione granger is an exceptionally talented witch\", \"wizard\"),\n",
    "        (\"ron weasley is harry's best friend and a brave wizard\", \"wizard\"),\n",
    "        (\"sirius black is harry's godfather and a skilled wizard\", \"wizard\"),\n",
    "        (\"draco malfoy is a slytherin student and harry's rival\", \"wizard\"),\n",
    "        (\"remus lupin is a werewolf and a former defense against the dark arts professor\", \"wizard\"),\n",
    "        (\"severus snape is a potions master with a mysterious past\", \"wizard\"),\n",
    "        (\"professor flitwick teaches charms at hogwarts\", \"wizard\"),\n",
    "        (\"bellatrix lestrange is a devoted follower of voldemort\", \"wizard\"),\n",
    "        (\"gilderoy lockhart is a flamboyant wizard known for his books\", \"wizard\"),\n",
    "        (\"alastor 'mad-eye' moody is a famous auror\", \"wizard\"),\n",
    "        (\"minerva mcgonagall is the head of gryffindor house\", \"wizard\"),\n",
    "        (\"peter pettigrew betrayed harry's parents to voldemort\", \"wizard\"),\n",
    "        (\"lucius malfoy is draco's father and a follower of voldemort\", \"wizard\"),\n",
    "        (\"arthur weasley works for the ministry of magic\", \"wizard\"),\n",
    "        (\"narcissa malfoy is draco's mother and loyal to her family\", \"wizard\"),\n",
    "        (\"hagrid is the keeper of keys and grounds at hogwarts\", \"wizard\"),\n",
    "        (\"horace slughorn is a professor who loves collecting famous students\", \"wizard\"),\n",
    "        (\"albus dumbledore is the headmaster of hogwarts\", \"wizard\"),\n",
    "        (\"rubeus hagrid is half-giant and a loyal friend to harry\", \"wizard\"),\n",
    "        (\"voldemort once attended hogwarts as tom riddle\", \"wizard\"),\n",
    "        (\"gellert grindelwald was a dark wizard before voldemort's rise\", \"wizard\"),\n",
    "\n",
    "        # Magic examples\n",
    "        (\"the invisibility cloak is a rare magical artifact\", \"magic\"),\n",
    "        (\"the philosopher's stone grants immortality\", \"magic\"),\n",
    "        (\"the elder wand is the most powerful wand in existence\", \"magic\"),\n",
    "        (\"fawkes, dumbledore's phoenix, has healing tears\", \"magic\"),\n",
    "        (\"the marauder's map shows everyone's location at hogwarts\", \"magic\"),\n",
    "        (\"polyjuice potion allows the drinker to assume another's form\", \"magic\"),\n",
    "        (\"the patronus charm wards off dementors\", \"magic\"),\n",
    "        (\"the resurrection stone can bring back the dead temporarily\", \"magic\"),\n",
    "        (\"the sorting hat determines students' houses at hogwarts\", \"magic\"),\n",
    "        (\"the put-outer can extinguish lights from a distance\", \"magic\"),\n",
    "        (\"quidditch is a popular magical sport\", \"magic\"),\n",
    "        (\"the chamber of secrets was created by salazar slytherin\", \"magic\"),\n",
    "        (\"the time turner allows its user to travel through time\", \"magic\"),\n",
    "        (\"the triwizard tournament is a dangerous magical competition\", \"magic\"),\n",
    "        (\"dumbledore used a deluminator to turn off street lamps\", \"magic\"),\n",
    "        (\"the sword of gryffindor appears to those who need it most\", \"magic\"),\n",
    "        (\"the prophecy foretold harry's battle with voldemort\", \"magic\"),\n",
    "        (\"voldemort created horcruxes to achieve immortality\", \"magic\"),\n",
    "        (\"the room of requirement appears when someone is in need\", \"magic\"),\n",
    "        (\"the basilisk is a giant serpent that petrifies students\", \"magic\"),\n",
    "        (\"the mirror of erised shows the deepest desires of one's heart\", \"magic\"),\n",
    "        (\"the killing curse is one of the unforgivable curses\", \"magic\"),\n",
    "        (\"the goblet of fire selects champions for the triwizard tournament\", \"magic\"),\n",
    "        (\"the whomping willow is a magical tree that attacks anyone who approaches\", \"magic\"),\n",
    "        (\"the firebolt is the fastest broomstick in the world\", \"magic\"),\n",
    "    ]\n"
   ]
  },
  {
   "cell_type": "code",
   "execution_count": 42,
   "metadata": {},
   "outputs": [],
   "source": [
    "def prepare_features_and_labels(data, model, word_to_index, label_to_index):\n",
    "    \"\"\"Prepare feature vectors and labels for classification.\"\"\"\n",
    "    X = np.array([sentence_to_vec(sentence, model, word_to_index)\n",
    "                 for sentence, _ in data])\n",
    "    y = np.array([label_to_index[label] for _, label in data])\n",
    "    return X, y"
   ]
  },
  {
   "cell_type": "code",
   "execution_count": 43,
   "metadata": {},
   "outputs": [],
   "source": [
    "def train_and_evaluate_classifier(X_train, y_train, X_test, y_test, index_to_label):\n",
    "    \"\"\"Train a classifier and evaluate its performance.\"\"\"\n",
    "    clf = LogisticRegression()\n",
    "    clf.fit(X_train, y_train)\n",
    "    y_pred = clf.predict(X_test)\n",
    "    accuracy = accuracy_score(y_test, y_pred)\n",
    "    print(f\"Test Accuracy: {accuracy:.4f}\")\n",
    "    cm = confusion_matrix(y_test, y_pred)\n",
    "    sns.heatmap(cm, annot=True, fmt=\"d\", cmap=\"Blues\",\n",
    "                xticklabels=index_to_label.values(),\n",
    "                yticklabels=index_to_label.values())\n",
    "    plt.xlabel('Predicted')\n",
    "    plt.ylabel('Actual')\n",
    "    plt.show()"
   ]
  },
  {
   "cell_type": "code",
   "execution_count": 44,
   "metadata": {},
   "outputs": [
    {
     "name": "stdout",
     "output_type": "stream",
     "text": [
      "Number of words in text: 495\n",
      "Sampled words: ['dursley', 'number', 'four', 'privet', 'drive', 'proud', 'say', 'perfectly', 'normal', 'thank']\n"
     ]
    }
   ],
   "source": [
    "# Load and preprocess text data\n",
    "sampled_words = load_and_preprocess_text('HP1.txt', remove_stopwords=True, sampling_ratio=0.0125)\n",
    "print(f\"Number of words in text: {len(sampled_words)}\")\n",
    "print(f\"Sampled words: {sampled_words[:10]}\")"
   ]
  },
  {
   "cell_type": "code",
   "execution_count": 45,
   "metadata": {},
   "outputs": [
    {
     "name": "stdout",
     "output_type": "stream",
     "text": [
      "Vocabulary size: 324\n",
      "Sampled vocabulary: ['across', 'almost', 'also', 'although', 'always', 'amount', 'angrily', 'another', 'anyone', 'anything']\n"
     ]
    }
   ],
   "source": [
    "# Create vocabulary and mappings\n",
    "vocab, word_to_index, index_to_word = create_vocabulary(sampled_words)\n",
    "print(f\"Vocabulary size: {len(vocab)}\")\n",
    "print(f\"Sampled vocabulary: {vocab[:10]}\")"
   ]
  },
  {
   "cell_type": "code",
   "execution_count": 46,
   "metadata": {},
   "outputs": [
    {
     "name": "stdout",
     "output_type": "stream",
     "text": [
      "Number of training samples: 1974\n"
     ]
    }
   ],
   "source": [
    "# Generate training data\n",
    "training_data = generate_training_data(sampled_words, word_to_index)\n",
    "print(f\"Number of training samples: {len(training_data)}\")"
   ]
  },
  {
   "cell_type": "code",
   "execution_count": 47,
   "metadata": {},
   "outputs": [],
   "source": [
    "# Create DataLoader for batch processing\n",
    "train_loader = DataLoader(Word2VecDataset(training_data), batch_size=64, shuffle=True)"
   ]
  },
  {
   "cell_type": "code",
   "execution_count": 48,
   "metadata": {},
   "outputs": [
    {
     "name": "stdout",
     "output_type": "stream",
     "text": [
      "Epoch 10/100, Loss: 0.006971724902189547\n",
      "Epoch 20/100, Loss: 0.006762528161127721\n",
      "Epoch 30/100, Loss: 0.006569579468979951\n",
      "Epoch 40/100, Loss: 0.006389864209678865\n",
      "Epoch 50/100, Loss: 0.006223133930395688\n",
      "Epoch 60/100, Loss: 0.006067483745996029\n",
      "Epoch 70/100, Loss: 0.00592278967040681\n",
      "Epoch 80/100, Loss: 0.005787897734872757\n",
      "Epoch 90/100, Loss: 0.005661305821230335\n",
      "Epoch 100/100, Loss: 0.0055423639264077906\n"
     ]
    }
   ],
   "source": [
    "# Initialize and train Word2Vec model\n",
    "embedding_dim = 100\n",
    "model = Word2Vec(len(vocab), embedding_dim).to(device)\n",
    "train_word2vec_model(train_loader, model, epochs=100, lr=0.01)"
   ]
  },
  {
   "cell_type": "code",
   "execution_count": 49,
   "metadata": {},
   "outputs": [
    {
     "name": "stdout",
     "output_type": "stream",
     "text": [
      "Model saved to word2vec_model.pth\n"
     ]
    }
   ],
   "source": [
    "# Save the trained model\n",
    "save_word2vec_model(model, \"word2vec_model.pth\")"
   ]
  },
  {
   "cell_type": "code",
   "execution_count": 50,
   "metadata": {},
   "outputs": [
    {
     "name": "stdout",
     "output_type": "stream",
     "text": [
      "Word 'wizard' not found in vocabulary.\n"
     ]
    }
   ],
   "source": [
    "# Example: Inference from a 1-hot vector\n",
    "word = \"wizard\"\n",
    "if word in word_to_index:\n",
    "    one_hot_vec = one_hot_vector(word_to_index[word], len(vocab))\n",
    "    embedding = infer_embedding_from_one_hot(one_hot_vec, model)\n",
    "    print(f\"Embedding for '{word}': {embedding.cpu().numpy()}\")\n",
    "else:\n",
    "    print(f\"Word '{word}' not found in vocabulary.\")"
   ]
  },
  {
   "cell_type": "code",
   "execution_count": 51,
   "metadata": {},
   "outputs": [
    {
     "name": "stdout",
     "output_type": "stream",
     "text": [
      "Model loaded from word2vec_model.pth\n"
     ]
    }
   ],
   "source": [
    "# Load the saved model (optional, just to demonstrate loading)\n",
    "loaded_model = load_word2vec_model(\"word2vec_model.pth\", len(vocab), embedding_dim)"
   ]
  },
  {
   "cell_type": "code",
   "execution_count": 52,
   "metadata": {},
   "outputs": [],
   "source": [
    "# Create and process synthetic dataset for classification\n",
    "data = create_synthetic_dataset()\n",
    "label_to_index = {\"wizard\": 0, \"magic\": 1}\n",
    "index_to_label = {v: k for k, v in label_to_index.items()}\n",
    "X, y = prepare_features_and_labels(data, loaded_model, word_to_index, label_to_index)"
   ]
  },
  {
   "cell_type": "code",
   "execution_count": 53,
   "metadata": {},
   "outputs": [
    {
     "name": "stdout",
     "output_type": "stream",
     "text": [
      "Test Accuracy: 0.0667\n"
     ]
    },
    {
     "data": {
      "image/png": "[encoded data removed]",
      "text/plain": [
       "<Figure size 640x480 with 2 Axes>"
      ]
     },
     "metadata": {},
     "output_type": "display_data"
    }
   ],
   "source": [
    "# Split data and evaluate classifier\n",
    "X_train, X_test, y_train, y_test = train_test_split(X, y, test_size=0.3, random_state=42)\n",
    "train_and_evaluate_classifier(X_train, y_train, X_test, y_test, index_to_label)"
   ]
  }
 ],
 "metadata": {
  "kernelspec": {
   "display_name": "Python 3",
   "language": "python",
   "name": "python3"
  },
  "language_info": {
   "codemirror_mode": {
    "name": "ipython",
    "version": 3
   },
   "file_extension": ".py",
   "mimetype": "text/x-python",
   "name": "python",
   "nbconvert_exporter": "python",
   "pygments_lexer": "ipython3",
   "version": "3.11.3"
  }
 },
 "nbformat": 4,
 "nbformat_minor": 2
}
