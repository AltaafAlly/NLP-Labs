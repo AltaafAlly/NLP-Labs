{
 "cells": [
  {
   "cell_type": "code",
   "execution_count": 17,
   "metadata": {},
   "outputs": [],
   "source": [
    "from datasets import load_dataset\n",
    "\n",
    "# Load the Swahili news dataset\n",
    "dataset = load_dataset('community-datasets/swahili_news')"
   ]
  },
  {
   "cell_type": "code",
   "execution_count": 18,
   "metadata": {},
   "outputs": [],
   "source": [
    "import re\n",
    "\n",
    "def clean_text(example):\n",
    "    text = example['text']\n",
    "    # Remove HTML tags\n",
    "    text = re.sub(r'<.*?>', '', text)\n",
    "    # Remove URLs\n",
    "    text = re.sub(r'http\\S+', '', text)\n",
    "    # Remove non-alphabetic characters except spaces\n",
    "    text = re.sub(r'[^a-zA-ZäöüÄÖÜßẞ\\s]', '', text)\n",
    "    # Remove extra spaces\n",
    "    text = re.sub(r'\\s+', ' ', text).strip()\n",
    "    # Convert to lowercase\n",
    "    text = text.lower()\n",
    "    example['text'] = text\n",
    "    return example\n",
    "\n",
    "# Apply the cleaning function\n",
    "dataset = dataset.map(clean_text)\n"
   ]
  },
  {
   "cell_type": "code",
   "execution_count": 19,
   "metadata": {},
   "outputs": [
    {
     "name": "stdout",
     "output_type": "stream",
     "text": [
      "Unique Labels: [0, 1, 2, 3, 4, 5]\n"
     ]
    }
   ],
   "source": [
    "# Get the unique labels\n",
    "unique_labels = dataset['train'].unique('label')\n",
    "print(\"Unique Labels:\", unique_labels)"
   ]
  },
  {
   "cell_type": "code",
   "execution_count": 20,
   "metadata": {},
   "outputs": [
    {
     "name": "stderr",
     "output_type": "stream",
     "text": [
      "Map: 100%|██████████| 22207/22207 [00:08<00:00, 2690.55 examples/s]\n",
      "Map: 100%|██████████| 7338/7338 [00:04<00:00, 1721.78 examples/s]\n"
     ]
    }
   ],
   "source": [
    "def map_labels_to_binary(example):\n",
    "    if example['label'] == 1:\n",
    "        example['label'] = 1\n",
    "    else:\n",
    "        example['label'] = 0\n",
    "    return example\n",
    "\n",
    "# Apply the mapping function\n",
    "dataset = dataset.map(map_labels_to_binary)\n"
   ]
  },
  {
   "cell_type": "code",
   "execution_count": 21,
   "metadata": {},
   "outputs": [
    {
     "name": "stdout",
     "output_type": "stream",
     "text": [
      "Label Distribution in Training Set: Counter({0: 12052, 1: 10155})\n"
     ]
    }
   ],
   "source": [
    "from collections import Counter\n",
    "\n",
    "# Calculate label distribution\n",
    "label_counts = Counter(dataset['train']['label'])\n",
    "print(\"Label Distribution in Training Set:\", label_counts)\n"
   ]
  },
  {
   "cell_type": "code",
   "execution_count": 22,
   "metadata": {},
   "outputs": [],
   "source": [
    "from datasets import DatasetDict\n",
    "\n",
    "# Assuming the dataset has only a 'train' split, we'll create our own splits\n",
    "dataset = dataset['train'].train_test_split(test_size=0.2, seed=42)\n",
    "test_valid = dataset['test'].train_test_split(test_size=0.5, seed=42)\n",
    "\n",
    "# Create a DatasetDict\n",
    "dataset = DatasetDict({\n",
    "    'train': dataset['train'],\n",
    "    'validation': test_valid['train'],\n",
    "    'test': test_valid['test'],\n",
    "})\n"
   ]
  },
  {
   "cell_type": "code",
   "execution_count": 23,
   "metadata": {},
   "outputs": [
    {
     "name": "stderr",
     "output_type": "stream",
     "text": [
      "Map: 100%|██████████| 17765/17765 [00:36<00:00, 488.46 examples/s]\n",
      "Map: 100%|██████████| 2221/2221 [00:03<00:00, 717.28 examples/s]\n",
      "Map: 100%|██████████| 2221/2221 [00:03<00:00, 622.41 examples/s]\n"
     ]
    }
   ],
   "source": [
    "from transformers import AutoTokenizer\n",
    "\n",
    "# Load the tokenizer from the first fine-tuning step\n",
    "tokenizer = AutoTokenizer.from_pretrained('./swahili-xlmr-finetuned-100k')\n",
    "\n",
    "def tokenize_function(batch):\n",
    "    return tokenizer(batch['text'], truncation=True, padding='max_length', max_length=128)\n",
    "\n",
    "# Tokenize the datasets\n",
    "tokenized_datasets = dataset.map(tokenize_function, batched=True)\n"
   ]
  },
  {
   "cell_type": "code",
   "execution_count": 24,
   "metadata": {},
   "outputs": [],
   "source": [
    "tokenized_datasets.set_format(type='torch', columns=['input_ids', 'attention_mask', 'label'])\n"
   ]
  },
  {
   "cell_type": "code",
   "execution_count": 25,
   "metadata": {},
   "outputs": [
    {
     "name": "stderr",
     "output_type": "stream",
     "text": [
      "Some weights of XLMRobertaForSequenceClassification were not initialized from the model checkpoint at ./swahili-xlmr-finetuned-100k and are newly initialized: ['classifier.dense.bias', 'classifier.dense.weight', 'classifier.out_proj.bias', 'classifier.out_proj.weight']\n",
      "You should probably TRAIN this model on a down-stream task to be able to use it for predictions and inference.\n"
     ]
    }
   ],
   "source": [
    "from transformers import AutoModelForSequenceClassification\n",
    "\n",
    "# Load the model from the first fine-tuning step\n",
    "model = AutoModelForSequenceClassification.from_pretrained(\n",
    "    './swahili-xlmr-finetuned-100k',\n",
    "    num_labels=2,\n",
    ")\n"
   ]
  },
  {
   "cell_type": "code",
   "execution_count": 26,
   "metadata": {},
   "outputs": [
    {
     "name": "stderr",
     "output_type": "stream",
     "text": [
      "/home-mscluster/mdawood/miniconda3/envs/atari/lib/python3.10/site-packages/transformers/training_args.py:1525: FutureWarning: `evaluation_strategy` is deprecated and will be removed in version 4.46 of 🤗 Transformers. Use `eval_strategy` instead\n",
      "  warnings.warn(\n"
     ]
    }
   ],
   "source": [
    "from transformers import TrainingArguments\n",
    "\n",
    "training_args = TrainingArguments(\n",
    "    output_dir='/datasets/mdawood/results_binary_classification',\n",
    "    evaluation_strategy='epoch',\n",
    "    save_strategy='epoch',\n",
    "    learning_rate=2e-5,\n",
    "    per_device_train_batch_size=8,  # Adjust based on your GPU memory\n",
    "    per_device_eval_batch_size=8,\n",
    "    num_train_epochs=3,             # Adjust based on your needs\n",
    "    weight_decay=0.01,\n",
    "    logging_dir='/datasets/mdawood/logs_binary_classification',\n",
    "    logging_steps=100,\n",
    "    load_best_model_at_end=True,\n",
    "    metric_for_best_model='f1',\n",
    ")\n"
   ]
  },
  {
   "cell_type": "code",
   "execution_count": 27,
   "metadata": {},
   "outputs": [],
   "source": [
    "import numpy as np\n",
    "from sklearn.metrics import accuracy_score, precision_recall_fscore_support\n",
    "\n",
    "def compute_metrics(eval_pred):\n",
    "    logits, labels = eval_pred\n",
    "    # Convert logits to probabilities using softmax\n",
    "    probs = np.exp(logits) / np.exp(logits).sum(-1, keepdims=True)\n",
    "    # Get the predicted class (0 or 1)\n",
    "    predictions = np.argmax(probs, axis=1)\n",
    "    precision, recall, f1, _ = precision_recall_fscore_support(labels, predictions, average='binary')\n",
    "    acc = accuracy_score(labels, predictions)\n",
    "    return {\n",
    "        'accuracy': acc,\n",
    "        'f1': f1,\n",
    "        'precision': precision,\n",
    "        'recall': recall,\n",
    "    }\n"
   ]
  },
  {
   "cell_type": "code",
   "execution_count": 28,
   "metadata": {},
   "outputs": [],
   "source": [
    "from transformers import Trainer\n",
    "\n",
    "trainer = Trainer(\n",
    "    model=model,\n",
    "    args=training_args,\n",
    "    train_dataset=tokenized_datasets['train'],\n",
    "    eval_dataset=tokenized_datasets['validation'],\n",
    "    compute_metrics=compute_metrics,\n",
    ")\n"
   ]
  },
  {
   "cell_type": "code",
   "execution_count": 29,
   "metadata": {},
   "outputs": [
    {
     "name": "stderr",
     "output_type": "stream",
     "text": [
      "\u001b[34m\u001b[1mwandb\u001b[0m: \u001b[33mWARNING\u001b[0m The `run_name` is currently set to the same value as `TrainingArguments.output_dir`. If this was not intended, please specify a different run name by setting the `TrainingArguments.run_name` parameter.\n",
      "Failed to detect the name of this notebook, you can set it manually with the WANDB_NOTEBOOK_NAME environment variable to enable code saving.\n",
      "\u001b[34m\u001b[1mwandb\u001b[0m: Currently logged in as: \u001b[33msayfullah-jumoorty\u001b[0m (\u001b[33msayf\u001b[0m). Use \u001b[1m`wandb login --relogin`\u001b[0m to force relogin\n"
     ]
    },
    {
     "data": {
      "text/html": [
       "wandb version 0.18.1 is available!  To upgrade, please run:\n",
       " $ pip install wandb --upgrade"
      ],
      "text/plain": [
       "<IPython.core.display.HTML object>"
      ]
     },
     "metadata": {},
     "output_type": "display_data"
    },
    {
     "data": {
      "text/html": [
       "Tracking run with wandb version 0.13.11"
      ],
      "text/plain": [
       "<IPython.core.display.HTML object>"
      ]
     },
     "metadata": {},
     "output_type": "display_data"
    },
    {
     "data": {
      "text/html": [
       "Run data is saved locally in <code>/home-mscluster/mdawood/nlp/wandb/run-20240924_202256-4i2v8jzv</code>"
      ],
      "text/plain": [
       "<IPython.core.display.HTML object>"
      ]
     },
     "metadata": {},
     "output_type": "display_data"
    },
    {
     "data": {
      "text/html": [
       "Syncing run <strong><a href='https://wandb.ai/sayf/huggingface/runs/4i2v8jzv' target=\"_blank\">/datasets/mdawood/results_binary_classification</a></strong> to <a href='https://wandb.ai/sayf/huggingface' target=\"_blank\">Weights & Biases</a> (<a href='https://wandb.me/run' target=\"_blank\">docs</a>)<br/>"
      ],
      "text/plain": [
       "<IPython.core.display.HTML object>"
      ]
     },
     "metadata": {},
     "output_type": "display_data"
    },
    {
     "data": {
      "text/html": [
       " View project at <a href='https://wandb.ai/sayf/huggingface' target=\"_blank\">https://wandb.ai/sayf/huggingface</a>"
      ],
      "text/plain": [
       "<IPython.core.display.HTML object>"
      ]
     },
     "metadata": {},
     "output_type": "display_data"
    },
    {
     "data": {
      "text/html": [
       " View run at <a href='https://wandb.ai/sayf/huggingface/runs/4i2v8jzv' target=\"_blank\">https://wandb.ai/sayf/huggingface/runs/4i2v8jzv</a>"
      ],
      "text/plain": [
       "<IPython.core.display.HTML object>"
      ]
     },
     "metadata": {},
     "output_type": "display_data"
    },
    {
     "data": {
      "text/html": [
       "\n",
       "    <div>\n",
       "      \n",
       "      <progress value='6663' max='6663' style='width:300px; height:20px; vertical-align: middle;'></progress>\n",
       "      [6663/6663 1:17:21, Epoch 3/3]\n",
       "    </div>\n",
       "    <table border=\"1\" class=\"dataframe\">\n",
       "  <thead>\n",
       " <tr style=\"text-align: left;\">\n",
       "      <th>Epoch</th>\n",
       "      <th>Training Loss</th>\n",
       "      <th>Validation Loss</th>\n",
       "      <th>Accuracy</th>\n",
       "      <th>F1</th>\n",
       "      <th>Precision</th>\n",
       "      <th>Recall</th>\n",
       "    </tr>\n",
       "  </thead>\n",
       "  <tbody>\n",
       "    <tr>\n",
       "      <td>1</td>\n",
       "      <td>0.304300</td>\n",
       "      <td>0.297799</td>\n",
       "      <td>0.919406</td>\n",
       "      <td>0.911254</td>\n",
       "      <td>0.889642</td>\n",
       "      <td>0.933943</td>\n",
       "    </tr>\n",
       "    <tr>\n",
       "      <td>2</td>\n",
       "      <td>0.230800</td>\n",
       "      <td>0.268780</td>\n",
       "      <td>0.927510</td>\n",
       "      <td>0.918233</td>\n",
       "      <td>0.917766</td>\n",
       "      <td>0.918699</td>\n",
       "    </tr>\n",
       "    <tr>\n",
       "      <td>3</td>\n",
       "      <td>0.168100</td>\n",
       "      <td>0.298946</td>\n",
       "      <td>0.926159</td>\n",
       "      <td>0.917505</td>\n",
       "      <td>0.908367</td>\n",
       "      <td>0.926829</td>\n",
       "    </tr>\n",
       "  </tbody>\n",
       "</table><p>"
      ],
      "text/plain": [
       "<IPython.core.display.HTML object>"
      ]
     },
     "metadata": {},
     "output_type": "display_data"
    },
    {
     "data": {
      "text/plain": [
       "TrainOutput(global_step=6663, training_loss=0.25240587884020416, metrics={'train_runtime': 4694.018, 'train_samples_per_second': 11.354, 'train_steps_per_second': 1.419, 'total_flos': 3505625923852800.0, 'train_loss': 0.25240587884020416, 'epoch': 3.0})"
      ]
     },
     "execution_count": 29,
     "metadata": {},
     "output_type": "execute_result"
    },
    {
     "name": "stdout",
     "output_type": "stream",
     "text": [
      "Error in callback <bound method _WandbInit._pause_backend of <wandb.sdk.wandb_init._WandbInit object at 0x7fe1d49334f0>> (for post_run_cell), with arguments args (<ExecutionResult object at 7fe278633910, execution_count=29 error_before_exec=None error_in_exec=None info=<ExecutionInfo object at 7fe278633a60, raw_cell=\"trainer.train()\" store_history=True silent=False shell_futures=True cell_id=vscode-notebook-cell://tunnel%2Bmsl-daggy/home-mscluster/mdawood/nlp/SecondFineTune.ipynb#X15sdnNjb2RlLXJlbW90ZQ%3D%3D> result=TrainOutput(global_step=6663, training_loss=0.25240587884020416, metrics={'train_runtime': 4694.018, 'train_samples_per_second': 11.354, 'train_steps_per_second': 1.419, 'total_flos': 3505625923852800.0, 'train_loss': 0.25240587884020416, 'epoch': 3.0})>,),kwargs {}:\n"
     ]
    },
    {
     "ename": "TypeError",
     "evalue": "_WandbInit._pause_backend() takes 1 positional argument but 2 were given",
     "output_type": "error",
     "traceback": [
      "\u001b[0;31m---------------------------------------------------------------------------\u001b[0m",
      "\u001b[0;31mTypeError\u001b[0m                                 Traceback (most recent call last)",
      "\u001b[0;31mTypeError\u001b[0m: _WandbInit._pause_backend() takes 1 positional argument but 2 were given"
     ]
    }
   ],
   "source": [
    "trainer.train()"
   ]
  },
  {
   "cell_type": "code",
   "execution_count": 30,
   "metadata": {},
   "outputs": [
    {
     "name": "stdout",
     "output_type": "stream",
     "text": [
      "Error in callback <bound method _WandbInit._resume_backend of <wandb.sdk.wandb_init._WandbInit object at 0x7fe1d49334f0>> (for pre_run_cell), with arguments args (<ExecutionInfo object at 7fe1cf4e65c0, raw_cell=\"# Save the fine-tuned model\n",
      "trainer.save_model('/d..\" store_history=True silent=False shell_futures=True cell_id=vscode-notebook-cell://tunnel%2Bmsl-daggy/home-mscluster/mdawood/nlp/SecondFineTune.ipynb#X22sdnNjb2RlLXJlbW90ZQ%3D%3D>,),kwargs {}:\n"
     ]
    },
    {
     "ename": "TypeError",
     "evalue": "_WandbInit._resume_backend() takes 1 positional argument but 2 were given",
     "output_type": "error",
     "traceback": [
      "\u001b[0;31m---------------------------------------------------------------------------\u001b[0m",
      "\u001b[0;31mTypeError\u001b[0m                                 Traceback (most recent call last)",
      "\u001b[0;31mTypeError\u001b[0m: _WandbInit._resume_backend() takes 1 positional argument but 2 were given"
     ]
    },
    {
     "data": {
      "text/plain": [
       "('/datasets/mdawood/swahili-xlmr-binary-classification-100k/tokenizer_config.json',\n",
       " '/datasets/mdawood/swahili-xlmr-binary-classification-100k/special_tokens_map.json',\n",
       " '/datasets/mdawood/swahili-xlmr-binary-classification-100k/tokenizer.json')"
      ]
     },
     "execution_count": 30,
     "metadata": {},
     "output_type": "execute_result"
    },
    {
     "name": "stdout",
     "output_type": "stream",
     "text": [
      "Error in callback <bound method _WandbInit._pause_backend of <wandb.sdk.wandb_init._WandbInit object at 0x7fe1d49334f0>> (for post_run_cell), with arguments args (<ExecutionResult object at 7fe1cf4e5690, execution_count=30 error_before_exec=None error_in_exec=None info=<ExecutionInfo object at 7fe1cf4e65c0, raw_cell=\"# Save the fine-tuned model\n",
      "trainer.save_model('/d..\" store_history=True silent=False shell_futures=True cell_id=vscode-notebook-cell://tunnel%2Bmsl-daggy/home-mscluster/mdawood/nlp/SecondFineTune.ipynb#X22sdnNjb2RlLXJlbW90ZQ%3D%3D> result=('/datasets/mdawood/swahili-xlmr-binary-classification-100k/tokenizer_config.json', '/datasets/mdawood/swahili-xlmr-binary-classification-100k/special_tokens_map.json', '/datasets/mdawood/swahili-xlmr-binary-classification-100k/tokenizer.json')>,),kwargs {}:\n"
     ]
    },
    {
     "ename": "TypeError",
     "evalue": "_WandbInit._pause_backend() takes 1 positional argument but 2 were given",
     "output_type": "error",
     "traceback": [
      "\u001b[0;31m---------------------------------------------------------------------------\u001b[0m",
      "\u001b[0;31mTypeError\u001b[0m                                 Traceback (most recent call last)",
      "\u001b[0;31mTypeError\u001b[0m: _WandbInit._pause_backend() takes 1 positional argument but 2 were given"
     ]
    }
   ],
   "source": [
    "# Save the fine-tuned model\n",
    "trainer.save_model('/datasets/mdawood/swahili-xlmr-binary-classification-100k')\n",
    "\n",
    "# Save the tokenizer\n",
    "tokenizer.save_pretrained('/datasets/mdawood/swahili-xlmr-binary-classification-100k')"
   ]
  },
  {
   "cell_type": "code",
   "execution_count": 31,
   "metadata": {},
   "outputs": [
    {
     "name": "stdout",
     "output_type": "stream",
     "text": [
      "Error in callback <bound method _WandbInit._resume_backend of <wandb.sdk.wandb_init._WandbInit object at 0x7fe1d49334f0>> (for pre_run_cell), with arguments args (<ExecutionInfo object at 7fe2784bffd0, raw_cell=\"test_results = trainer.evaluate(eval_dataset=token..\" store_history=True silent=False shell_futures=True cell_id=vscode-notebook-cell://tunnel%2Bmsl-daggy/home-mscluster/mdawood/nlp/SecondFineTune.ipynb#X16sdnNjb2RlLXJlbW90ZQ%3D%3D>,),kwargs {}:\n"
     ]
    },
    {
     "ename": "TypeError",
     "evalue": "_WandbInit._resume_backend() takes 1 positional argument but 2 were given",
     "output_type": "error",
     "traceback": [
      "\u001b[0;31m---------------------------------------------------------------------------\u001b[0m",
      "\u001b[0;31mTypeError\u001b[0m                                 Traceback (most recent call last)",
      "\u001b[0;31mTypeError\u001b[0m: _WandbInit._resume_backend() takes 1 positional argument but 2 were given"
     ]
    },
    {
     "data": {
      "text/html": [
       "\n",
       "    <div>\n",
       "      \n",
       "      <progress value='278' max='278' style='width:300px; height:20px; vertical-align: middle;'></progress>\n",
       "      [278/278 00:47]\n",
       "    </div>\n",
       "    "
      ],
      "text/plain": [
       "<IPython.core.display.HTML object>"
      ]
     },
     "metadata": {},
     "output_type": "display_data"
    },
    {
     "name": "stdout",
     "output_type": "stream",
     "text": [
      "Test Results: {'eval_loss': 0.2684372365474701, 'eval_accuracy': 0.9275101305718145, 'eval_f1': 0.9206505667816658, 'eval_precision': 0.9229249011857708, 'eval_recall': 0.9183874139626352, 'eval_runtime': 47.8165, 'eval_samples_per_second': 46.448, 'eval_steps_per_second': 5.814, 'epoch': 3.0}\n",
      "Error in callback <bound method _WandbInit._pause_backend of <wandb.sdk.wandb_init._WandbInit object at 0x7fe1d49334f0>> (for post_run_cell), with arguments args (<ExecutionResult object at 7fe2784bdc30, execution_count=31 error_before_exec=None error_in_exec=None info=<ExecutionInfo object at 7fe2784bffd0, raw_cell=\"test_results = trainer.evaluate(eval_dataset=token..\" store_history=True silent=False shell_futures=True cell_id=vscode-notebook-cell://tunnel%2Bmsl-daggy/home-mscluster/mdawood/nlp/SecondFineTune.ipynb#X16sdnNjb2RlLXJlbW90ZQ%3D%3D> result=None>,),kwargs {}:\n"
     ]
    },
    {
     "ename": "TypeError",
     "evalue": "_WandbInit._pause_backend() takes 1 positional argument but 2 were given",
     "output_type": "error",
     "traceback": [
      "\u001b[0;31m---------------------------------------------------------------------------\u001b[0m",
      "\u001b[0;31mTypeError\u001b[0m                                 Traceback (most recent call last)",
      "\u001b[0;31mTypeError\u001b[0m: _WandbInit._pause_backend() takes 1 positional argument but 2 were given"
     ]
    }
   ],
   "source": [
    "test_results = trainer.evaluate(eval_dataset=tokenized_datasets['test'])\n",
    "print(\"Test Results:\", test_results)\n"
   ]
  },
  {
   "cell_type": "code",
   "execution_count": 32,
   "metadata": {},
   "outputs": [
    {
     "name": "stdout",
     "output_type": "stream",
     "text": [
      "Error in callback <bound method _WandbInit._resume_backend of <wandb.sdk.wandb_init._WandbInit object at 0x7fe1d49334f0>> (for pre_run_cell), with arguments args (<ExecutionInfo object at 7fe1d1e289d0, raw_cell=\"print(f\"Test Accuracy: {test_results['eval_accurac..\" store_history=True silent=False shell_futures=True cell_id=vscode-notebook-cell://tunnel%2Bmsl-daggy/home-mscluster/mdawood/nlp/SecondFineTune.ipynb#X20sdnNjb2RlLXJlbW90ZQ%3D%3D>,),kwargs {}:\n"
     ]
    },
    {
     "ename": "TypeError",
     "evalue": "_WandbInit._resume_backend() takes 1 positional argument but 2 were given",
     "output_type": "error",
     "traceback": [
      "\u001b[0;31m---------------------------------------------------------------------------\u001b[0m",
      "\u001b[0;31mTypeError\u001b[0m                                 Traceback (most recent call last)",
      "\u001b[0;31mTypeError\u001b[0m: _WandbInit._resume_backend() takes 1 positional argument but 2 were given"
     ]
    },
    {
     "name": "stdout",
     "output_type": "stream",
     "text": [
      "Test Accuracy: 0.9275\n",
      "Test F1 Score: 0.9207\n",
      "Test Precision: 0.9229\n",
      "Test Recall: 0.9184\n",
      "Error in callback <bound method _WandbInit._pause_backend of <wandb.sdk.wandb_init._WandbInit object at 0x7fe1d49334f0>> (for post_run_cell), with arguments args (<ExecutionResult object at 7fe1cf73f7c0, execution_count=32 error_before_exec=None error_in_exec=None info=<ExecutionInfo object at 7fe1d1e289d0, raw_cell=\"print(f\"Test Accuracy: {test_results['eval_accurac..\" store_history=True silent=False shell_futures=True cell_id=vscode-notebook-cell://tunnel%2Bmsl-daggy/home-mscluster/mdawood/nlp/SecondFineTune.ipynb#X20sdnNjb2RlLXJlbW90ZQ%3D%3D> result=None>,),kwargs {}:\n"
     ]
    },
    {
     "ename": "TypeError",
     "evalue": "_WandbInit._pause_backend() takes 1 positional argument but 2 were given",
     "output_type": "error",
     "traceback": [
      "\u001b[0;31m---------------------------------------------------------------------------\u001b[0m",
      "\u001b[0;31mTypeError\u001b[0m                                 Traceback (most recent call last)",
      "\u001b[0;31mTypeError\u001b[0m: _WandbInit._pause_backend() takes 1 positional argument but 2 were given"
     ]
    }
   ],
   "source": [
    "print(f\"Test Accuracy: {test_results['eval_accuracy']:.4f}\")\n",
    "print(f\"Test F1 Score: {test_results['eval_f1']:.4f}\")\n",
    "print(f\"Test Precision: {test_results['eval_precision']:.4f}\")\n",
    "print(f\"Test Recall: {test_results['eval_recall']:.4f}\")\n"
   ]
  },
  {
   "cell_type": "code",
   "execution_count": 33,
   "metadata": {},
   "outputs": [
    {
     "name": "stdout",
     "output_type": "stream",
     "text": [
      "Error in callback <bound method _WandbInit._resume_backend of <wandb.sdk.wandb_init._WandbInit object at 0x7fe1d49334f0>> (for pre_run_cell), with arguments args (<ExecutionInfo object at 7fe1d1ef0220, raw_cell=\"import torch\n",
      "\n",
      "# Get a batch of test examples\n",
      "test_..\" store_history=True silent=False shell_futures=True cell_id=vscode-notebook-cell://tunnel%2Bmsl-daggy/home-mscluster/mdawood/nlp/SecondFineTune.ipynb#X21sdnNjb2RlLXJlbW90ZQ%3D%3D>,),kwargs {}:\n"
     ]
    },
    {
     "ename": "TypeError",
     "evalue": "_WandbInit._resume_backend() takes 1 positional argument but 2 were given",
     "output_type": "error",
     "traceback": [
      "\u001b[0;31m---------------------------------------------------------------------------\u001b[0m",
      "\u001b[0;31mTypeError\u001b[0m                                 Traceback (most recent call last)",
      "\u001b[0;31mTypeError\u001b[0m: _WandbInit._resume_backend() takes 1 positional argument but 2 were given"
     ]
    },
    {
     "name": "stdout",
     "output_type": "stream",
     "text": [
      "Error in callback <bound method _WandbInit._pause_backend of <wandb.sdk.wandb_init._WandbInit object at 0x7fe1d49334f0>> (for post_run_cell), with arguments args (<ExecutionResult object at 7fe1d1ef2f20, execution_count=33 error_before_exec=None error_in_exec=None info=<ExecutionInfo object at 7fe1d1ef0220, raw_cell=\"import torch\n",
      "\n",
      "# Get a batch of test examples\n",
      "test_..\" store_history=True silent=False shell_futures=True cell_id=vscode-notebook-cell://tunnel%2Bmsl-daggy/home-mscluster/mdawood/nlp/SecondFineTune.ipynb#X21sdnNjb2RlLXJlbW90ZQ%3D%3D> result=None>,),kwargs {}:\n"
     ]
    },
    {
     "ename": "TypeError",
     "evalue": "_WandbInit._pause_backend() takes 1 positional argument but 2 were given",
     "output_type": "error",
     "traceback": [
      "\u001b[0;31m---------------------------------------------------------------------------\u001b[0m",
      "\u001b[0;31mTypeError\u001b[0m                                 Traceback (most recent call last)",
      "\u001b[0;31mTypeError\u001b[0m: _WandbInit._pause_backend() takes 1 positional argument but 2 were given"
     ]
    }
   ],
   "source": [
    "import torch\n",
    "\n",
    "# Get a batch of test examples\n",
    "test_samples = tokenized_datasets['test'][:5]  # Adjust as needed\n",
    "\n",
    "# Move inputs to device\n",
    "device = torch.device('cuda' if torch.cuda.is_available() else 'cpu')\n",
    "model.to(device)\n",
    "inputs = {k: v.to(device) for k, v in test_samples.items() if k in ['input_ids', 'attention_mask']}\n",
    "\n",
    "# Get outputs with attentions\n",
    "with torch.no_grad():\n",
    "    outputs = model(**inputs, output_attentions=True)\n",
    "    attentions = outputs.attentions  # Tuple of attention tensors\n",
    "\n",
    "# Process attentions for visualization\n"
   ]
  }
 ],
 "metadata": {
  "kernelspec": {
   "display_name": "atari",
   "language": "python",
   "name": "python3"
  },
  "language_info": {
   "codemirror_mode": {
    "name": "ipython",
    "version": 3
   },
   "file_extension": ".py",
   "mimetype": "text/x-python",
   "name": "python",
   "nbconvert_exporter": "python",
   "pygments_lexer": "ipython3",
   "version": "3.10.14"
  }
 },
 "nbformat": 4,
 "nbformat_minor": 2
}
